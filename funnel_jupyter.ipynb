{
 "cells": [
  {
   "cell_type": "code",
   "execution_count": 1,
   "id": "8aa0ab9e",
   "metadata": {},
   "outputs": [],
   "source": [
    "# import packages\n",
    "import pandas as pd\n",
    "import numpy as np\n",
    "from google.cloud import bigquery\n",
    "# # import plotly.graph_objects as go\n",
    "# # import plotly.express as px\n",
    "from datetime import datetime\n",
    "# import json\n",
    "import pprint"
   ]
  },
  {
   "cell_type": "code",
   "execution_count": 2,
   "id": "5c8b2116",
   "metadata": {},
   "outputs": [],
   "source": [
    "# Set plotly as plotting backend\n",
    "# pd.options.plotting.backend = \"plotly\"\n",
    "\n",
    "\n",
    "# Global variables\n",
    "\n",
    "BQ_PROJECT = \"bigquery-anwb\"\n",
    "BQ_DATASET_MASTER = \"87223461\"\n",
    "BQ_DATASET_GA4_test = \"analytics_290476086\"\n",
    "BQ_DATASET_GA4_prod = \"analytics_229981733\""
   ]
  },
  {
   "cell_type": "code",
   "execution_count": 3,
   "id": "89a4df8b",
   "metadata": {},
   "outputs": [],
   "source": [
    "def lookup_bq_names(ga_name: str):\n",
    "    ga_to_bq = {'user': 'fullVisitorId',\n",
    "                'session': '''CONCAT(fullVisitorId, '-', cast(visitId AS string), '-', date)''',\n",
    "                'date': 'date',\n",
    "                'page': 'hits.page.pagePath',\n",
    "                'event category': 'hits.eventInfo.eventCategory',\n",
    "                'event action': 'hits.eventInfo.eventAction',\n",
    "                'event label': 'hits.eventInfo.eventLabel',\n",
    "                'campaign': 'trafficSource.campaign',\n",
    "                'source': 'trafficSource.source',\n",
    "                'medium': 'trafficSource.medium',\n",
    "                'keyword': 'trafficSource.keyword',\n",
    "                'device category': 'device.deviceCategory',\n",
    "                'screen resolution': 'device.screenResolution',\n",
    "                'browser': 'device.browser',\n",
    "                'operating system': 'device.operatingSystem',\n",
    "                'transactions': 'hits.transaction.transactionId',\n",
    "                'affiliation': 'hits.transaction.affiliation',\n",
    "                'revenue': ' hits.transaction.transactionRevenue / 1000000',\n",
    "                'product': 'product.V2ProductName',\n",
    "                'product revenue': 'product.productRevenue / 1000000',\n",
    "                'product detail view': 'product.V2ProductName',\n",
    "                }\n",
    "\n",
    "    if ga_name.lower() in ga_to_bq:\n",
    "        bq_name = ga_to_bq[ga_name.lower()]\n",
    "    else:\n",
    "        bq_name = ga_name\n",
    "\n",
    "    return bq_name"
   ]
  },
  {
   "cell_type": "code",
   "execution_count": 4,
   "id": "ac25d4e6",
   "metadata": {},
   "outputs": [],
   "source": [
    "def process_filters(filter_):\n",
    "    if filter_['condition'] == 'regex':\n",
    "        filter_['value'] = filter_['value'].replace('\\\\', '\\\\\\\\')\n",
    "        filter_sql = f\"\"\"REGEXP_CONTAINS({filter_['dimension']},'{filter_['value']}')\"\"\"\n",
    "    elif filter_['condition'] == 'in':\n",
    "        filter_sql = f\"\"\"{filter_['dimension']} {filter_['condition']} ({filter_['value']})\"\"\"\n",
    "    else:\n",
    "        filter_sql = f\"\"\"{filter_['dimension']} {filter_['condition']} '{filter_['value']}'\"\"\"\n",
    "    return filter_sql"
   ]
  },
  {
   "cell_type": "code",
   "execution_count": 5,
   "id": "6b7e077a",
   "metadata": {},
   "outputs": [],
   "source": [
    "def check_unnests(dimension):\n",
    "    \"\"\"\"\n",
    "    Bepaal welke items ge-unnest moeten worden\n",
    "    \"\"\"\n",
    "    # @Robbert: dit moet mooier kunnen... toch??\n",
    "    # Omdat ik nog niet weet hoe ik kan bepalen op welk niveau een customdimension is gedefinieerd,\n",
    "    # wordt deze nog niet meegenomen in unnest\n",
    "\n",
    "    unnest_list = []\n",
    "    # if dimension.startswith('customDimensions'):\n",
    "    #     unnest_list.append('unnest(customDimensions) as cd')\n",
    "    if dimension.startswith('hits'):\n",
    "        unnest_list.append('unnest(hits) as hits')\n",
    "    # if dimension.startswith('hits.customDimensions'):\n",
    "    #     unnest_list.append('unnest(hits) as hits')\n",
    "    #     unnest_list.append('unnest(hits.customDimensions) as hits_cd')\n",
    "    if dimension.startswith('product'):\n",
    "        unnest_list.append('unnest(hits) as hits')\n",
    "        unnest_list.append('unnest(hits.product) as product')\n",
    "    if dimension.startswith('hits.promotion'):\n",
    "        unnest_list.append('unnest(hits) as hits')\n",
    "        unnest_list.append('unnest(hits.promotion) as promotion')\n",
    "    return unnest_list"
   ]
  },
  {
   "cell_type": "code",
   "execution_count": 6,
   "id": "24b4508c",
   "metadata": {},
   "outputs": [],
   "source": [
    "def set_funnel_scope(funnel_definitions):\n",
    "    funnel_definitions['prep']['funnelScope'] = f\"\"\"{lookup_bq_names(funnel_definitions['funnelScope'])}\"\"\"\n",
    "\n",
    "    return funnel_definitions\n"
   ]
  },
  {
   "cell_type": "code",
   "execution_count": 7,
   "id": "684a644a",
   "metadata": {},
   "outputs": [],
   "source": [
    "def set_funnel_dimensions(funnel_definitions):\n",
    "    funnel_definitions['prep']['breakdownDimensions'] = [lookup_bq_names(x) for x in funnel_definitions['breakdownDimensions']]\n",
    "    funnel_definitions['prep']['sql']['funnelDimensions'] = \"\"\"\n",
    "        ,  \"\"\".join(funnel_definitions['prep']['breakdownDimensions'])\n",
    "\n",
    "    funnel_unnest = []\n",
    "    for f in funnel_definitions['prep']['breakdownDimensions']:\n",
    "        funnel_unnest += check_unnests(f)\n",
    "    funnel_definitions['unnest'] = funnel_unnest\n",
    "\n",
    "    return funnel_definitions"
   ]
  },
  {
   "cell_type": "code",
   "execution_count": 8,
   "id": "65078540",
   "metadata": {},
   "outputs": [],
   "source": [
    "def set_funnel_date_range(funnel_definitions):\n",
    "    date_from = funnel_definitions['dateRange'][0]\n",
    "    date_to = funnel_definitions['dateRange'][1]\n",
    "    funnel_definitions['prep']['dateFrom'] = datetime.strptime(date_from, '%m-%d-%Y').date().strftime(\"%Y%m%d\")\n",
    "    funnel_definitions['prep']['dateTo'] = datetime.strptime(date_to, '%m-%d-%Y').date().strftime(\"%Y%m%d\")\n",
    "    # print('set_funnel_date_range: ', funnel_definitions['sql'])\n",
    "\n",
    "    return funnel_definitions"
   ]
  },
  {
   "cell_type": "code",
   "execution_count": 9,
   "id": "4766b8ae",
   "metadata": {},
   "outputs": [],
   "source": [
    "def set_funnel_filters(funnel_definitions):\n",
    "    funnel_definitions['prep']['filters'] = funnel_definitions['filters']\n",
    "    for f in funnel_definitions['prep']['filters']:\n",
    "\n",
    "        f['dimension'] = lookup_bq_names(f['dimension'])\n",
    "\n",
    "    funnel_filter_sql = [process_filters(f) for f in funnel_definitions['prep']['filters']]\n",
    "    funnel_definitions['prep']['sql']['funnelFilters'] = \"\"\"\n",
    "    AND    \"\"\".join(funnel_filter_sql)\n",
    "\n",
    "    return funnel_definitions"
   ]
  },
  {
   "cell_type": "code",
   "execution_count": 10,
   "id": "4df6315d",
   "metadata": {},
   "outputs": [],
   "source": [
    "def set_funnel_steps(funnel_definitions):\n",
    "    funnel_definitions['prep']['sql']['steps'] = []\n",
    "    funnel_definitions['prep']['steps'] = funnel_definitions['steps']\n",
    "    for step in funnel_definitions['prep']['steps']:\n",
    "        sql_step_def = {}\n",
    "        sql_step_def['stepId'] = step['stepId']\n",
    "        s = []\n",
    "        # voor iedere stap moeten zowel de benodigde unnest voor de hele funnel als de steps toegevoegd worden\n",
    "        unnest = funnel_definitions['prep']['unnest']\n",
    "        for f in step['step']:\n",
    "            f['dimension'] = lookup_bq_names(f['dimension'])\n",
    "            s.append(process_filters(f))\n",
    "            step_sql = \"\"\"\n",
    "    AND    \"\"\".join(s)\n",
    "            unnest += check_unnests(f['dimension'])\n",
    "\n",
    "        sql_step_def['filters'] = step_sql\n",
    "        unnest_dedup = list(dict.fromkeys(unnest))  # deduplicate list\n",
    "        sql_step_def['unnest'] = \"\"\"\n",
    "                , \"\"\".join(unnest_dedup)\n",
    "        funnel_definitions['prep']['sql']['steps'].append(sql_step_def)\n",
    "\n",
    "    return funnel_definitions"
   ]
  },
  {
   "cell_type": "code",
   "execution_count": 11,
   "id": "6382db0a",
   "metadata": {},
   "outputs": [],
   "source": [
    "def prep_sql(funnel_definitions):\n",
    "    funnel_definitions['prep'] = {}\n",
    "    funnel_definitions['prep']['sql'] = {}\n",
    "    funnel_definitions['prep']['unnest'] = []\n",
    "    funnel_definitions = set_funnel_scope(funnel_definitions)\n",
    "    funnel_definitions = set_funnel_dimensions(funnel_definitions)\n",
    "    funnel_definitions = set_funnel_date_range(funnel_definitions)\n",
    "    funnel_definitions = set_funnel_filters(funnel_definitions)\n",
    "    funnel_definitions = set_funnel_steps(funnel_definitions)\n",
    "\n",
    "    for step in funnel_definitions['prep']['sql']['steps']:\n",
    "        step['stepsql'] = f\"\"\"-- Step {step['stepId']}\n",
    "    CREATE TEMP FUNCTION customDimensionByIndexUA(indx INT64, arr ARRAY<STRUCT<index INT64, value STRING>>) AS (\n",
    "    (   SELECT x.value FROM UNNEST(arr) x WHERE indx=x.index)\n",
    "    );\n",
    "    SELECT distinct {funnel_definitions['prep']['funnelScope']} as id\n",
    "        ,  visitStartTime + cast(hits.time/1000 as int64) as timestamp\n",
    "        ,  EXTRACT(DATETIME FROM TIMESTAMP_SECONDS(visitStartTime + cast(hits.time/1000 as int64)) AT TIME ZONE \"Europe/Amsterdam\") as datetime\n",
    "        ,  {funnel_definitions['prep']['sql']['funnelDimensions']}\n",
    "    FROM   `{BQ_PROJECT}.{BQ_DATASET_MASTER}.ga_sessions_*` s, {step['unnest']}\n",
    "    WHERE  _TABLE_SUFFIX >= '{funnel_definitions['prep']['dateFrom']}'\n",
    "    AND    _TABLE_SUFFIX <= '{funnel_definitions['prep']['dateTo']}'\n",
    "    AND    {funnel_definitions['prep']['sql']['funnelFilters']}\n",
    "    AND    {step['filters']}\"\"\"\n",
    "\n",
    "    return funnel_definitions['prep']"
   ]
  },
  {
   "cell_type": "code",
   "execution_count": 12,
   "id": "46f39a3a",
   "metadata": {},
   "outputs": [],
   "source": [
    "# step_dict = {...}\n",
    "# df_count = []\n",
    "# prev_step = None\n",
    "# for step in prepped_definitions['steps']:\n",
    "#     step_id = step['stepId']\n",
    "#     df_step = get_UA_data(BQ_PROJECT, step_id, step['stepsql']) # haal data op\n",
    "#     step_dict[step_id] = df_step.copy()\n",
    "# #     print(step_id, prev_step_id)\n",
    "# #     print(step_dict[step_id])\n",
    "#     df_count = compare_steps('open', df_step.copy(), prev_step)\n",
    "#     prev_step = df_step.copy()\n",
    "#     print(step_dict[step_id]) # bij deze print zie ik de group kolom die in de functie heb toegevoegd. \n",
    "    \n",
    "    \n",
    "\n",
    "# def compare_steps( funnel_type, breakdown_dimensions, step, prev_step):\n",
    "#     ...\n",
    "#     if prev_step is None:\n",
    "#         step['group'] = 'base'\n",
    "# #         step_counts['base'] = df[df['match']]['id'].nunique()\n",
    "#     else:\n",
    "#         df = pd.merge(left=prev_step, right=step, how='outer',\n",
    "#                       on=['id']+ pivot_list,\n",
    "#                       suffixes=(\"_prev\", \"\"),\n",
    "#                       indicator=True)\n",
    "#         df['group'] = np.where((df['_merge'] == 'left_only'), 'uitval', None)\n",
    "#         ...\n",
    "        \n",
    "#     step_counts = step[pivot_list].value_counts()\n",
    "#     return step_counts  "
   ]
  },
  {
   "cell_type": "code",
   "execution_count": 13,
   "id": "315c488d",
   "metadata": {},
   "outputs": [],
   "source": [
    "# SQL statement from session data\n",
    "def get_UA_data(project: str, stepId, sql: str):\n",
    "    # print(sql)\n",
    "    bqclient = bigquery.Client(project=project)\n",
    "    df = pd.read_csv(f'''{str(stepId)}.csv''', comment='#')\n",
    "    # df = bqclient.query(sql).result().to_dataframe(create_bqstorage_client=True)\n",
    "    df.to_csv(f'''{str(stepId)}.csv''', index=False)\n",
    "    df.head()\n",
    "    return df"
   ]
  },
  {
   "cell_type": "code",
   "execution_count": 14,
   "id": "4801b351",
   "metadata": {},
   "outputs": [],
   "source": [
    "def compare_steps(funnel_type, breakdown_dimensions, step_dict, step_id, prev_step_id):\n",
    "\n",
    "    step_counts = {}\n",
    "    step = step_dict[step_id].copy()\n",
    "\n",
    "    pivot_list = [i.split('.', 1)[-1] for i in breakdown_dimensions]\n",
    "    if prev_step_id is None:\n",
    "        df = step\n",
    "        df['step_id'] = step_id\n",
    "        df['group'] = 'base'\n",
    "    else:\n",
    "        prev_step = step_dict[prev_step_id]\n",
    "        df = pd.merge(left=prev_step, right=step, how='outer',\n",
    "                      on=['id', 'breakdown'],\n",
    "                      suffixes=(\"_prev\", \"\"),\n",
    "                      indicator=True)\n",
    "        df['step_id'] = step_id\n",
    "        df['group'] = np.where(\n",
    "            (df['timestamp'] > df['timestamp_prev']) &\n",
    "            (df['_merge'] == 'both'), 'base', None)\n",
    "\n",
    "        if (funnel_type == 'open'):\n",
    "            df['group'] = np.where(\n",
    "                (df['_merge'] == 'right_only') & (df['group'].isna()), 'new', df['group'])\n",
    "            df['group'] = np.where(\n",
    "                (df['_merge'] == 'both') & (df['group'].isna()), 'new', df['group'])\n",
    "    step_counts = pd.pivot_table(data=df, index=['step_id', 'breakdown', 'group'], values='id', aggfunc=pd.Series.nunique).reset_index()\n",
    "\n",
    "    return step_counts"
   ]
  },
  {
   "cell_type": "code",
   "execution_count": 15,
   "id": "901c52a8",
   "metadata": {},
   "outputs": [],
   "source": [
    "funnel_definitions = pd.read_json('funneldefinitions.json')\n",
    "prepped_definitions = prep_sql(funnel_definitions['funnel'])\n",
    "prev_step_id = None # geen best practice om df zo op te bouwen, maar werkt wel\n",
    "step_dict = {}\n",
    "funnel_count = pd.DataFrame()\n",
    "prev_step = None\n",
    "for step in prepped_definitions['sql']['steps']:\n",
    "    step_id = step['stepId']\n",
    "    df_step = get_UA_data(BQ_PROJECT, step_id, step['stepsql'])\n",
    "    step_dict[step_id] = df_step\n",
    "\n",
    "    df_count = compare_steps(funnel_definitions['funnel']['funnelType'],\n",
    "                             prepped_definitions['breakdownDimensions'],\n",
    "                             step_dict, step_id, prev_step_id)\n",
    "\n",
    "    # funnel_count = pd.concat(funnel_count,df_count)\n",
    "    funnel_count = funnel_count.append(df_count, ignore_index=True)\n",
    "\n",
    "    prev_step_id = step_id"
   ]
  },
  {
   "cell_type": "code",
   "execution_count": null,
   "id": "b5fa2a32",
   "metadata": {},
   "outputs": [],
   "source": []
  },
  {
   "cell_type": "code",
   "execution_count": 21,
   "id": "9ddaa9f6",
   "metadata": {},
   "outputs": [
    {
     "name": "stdout",
     "output_type": "stream",
     "text": [
      "['-']\n",
      "-\n",
      "step_id group      1     2     3\n",
      "0        base  10328  6991  6892\n"
     ]
    }
   ],
   "source": [
    "funnel_count.head()\n",
    "#Grouping and perform count over each group\n",
    "breakdown =  funnel_count['breakdown'].unique()\n",
    "print(breakdown)\n",
    "\n",
    "for i in breakdown:\n",
    "    print(i)\n",
    "    df = funnel_count[funnel_count['breakdown']==i].pivot(index='group', columns='step_id', values='id').reset_index()\n",
    "    print(df)"
   ]
  },
  {
   "cell_type": "code",
   "execution_count": 40,
   "id": "a98ed1b8",
   "metadata": {},
   "outputs": [
    {
     "ename": "KeyError",
     "evalue": "'d'",
     "output_type": "error",
     "traceback": [
      "\u001b[1;31m---------------------------------------------------------------------------\u001b[0m",
      "\u001b[1;31mKeyError\u001b[0m                                  Traceback (most recent call last)",
      "File \u001b[1;32mc:\\data\\python\\scripts\\funnel_analyse\\venv\\lib\\site-packages\\pandas\\core\\indexes\\base.py:3361\u001b[0m, in \u001b[0;36mIndex.get_loc\u001b[1;34m(self, key, method, tolerance)\u001b[0m\n\u001b[0;32m   3360\u001b[0m \u001b[38;5;28;01mtry\u001b[39;00m:\n\u001b[1;32m-> 3361\u001b[0m     \u001b[38;5;28;01mreturn\u001b[39;00m \u001b[38;5;28;43mself\u001b[39;49m\u001b[38;5;241;43m.\u001b[39;49m\u001b[43m_engine\u001b[49m\u001b[38;5;241;43m.\u001b[39;49m\u001b[43mget_loc\u001b[49m\u001b[43m(\u001b[49m\u001b[43mcasted_key\u001b[49m\u001b[43m)\u001b[49m\n\u001b[0;32m   3362\u001b[0m \u001b[38;5;28;01mexcept\u001b[39;00m \u001b[38;5;167;01mKeyError\u001b[39;00m \u001b[38;5;28;01mas\u001b[39;00m err:\n",
      "File \u001b[1;32mc:\\data\\python\\scripts\\funnel_analyse\\venv\\lib\\site-packages\\pandas\\_libs\\index.pyx:76\u001b[0m, in \u001b[0;36mpandas._libs.index.IndexEngine.get_loc\u001b[1;34m()\u001b[0m\n",
      "File \u001b[1;32mc:\\data\\python\\scripts\\funnel_analyse\\venv\\lib\\site-packages\\pandas\\_libs\\index.pyx:108\u001b[0m, in \u001b[0;36mpandas._libs.index.IndexEngine.get_loc\u001b[1;34m()\u001b[0m\n",
      "File \u001b[1;32mpandas\\_libs\\hashtable_class_helper.pxi:5198\u001b[0m, in \u001b[0;36mpandas._libs.hashtable.PyObjectHashTable.get_item\u001b[1;34m()\u001b[0m\n",
      "File \u001b[1;32mpandas\\_libs\\hashtable_class_helper.pxi:5206\u001b[0m, in \u001b[0;36mpandas._libs.hashtable.PyObjectHashTable.get_item\u001b[1;34m()\u001b[0m\n",
      "\u001b[1;31mKeyError\u001b[0m: 'd'",
      "\nThe above exception was the direct cause of the following exception:\n",
      "\u001b[1;31mKeyError\u001b[0m                                  Traceback (most recent call last)",
      "Input \u001b[1;32mIn [40]\u001b[0m, in \u001b[0;36m<module>\u001b[1;34m\u001b[0m\n\u001b[0;32m      1\u001b[0m df_test \u001b[38;5;241m=\u001b[39m df_step\u001b[38;5;241m.\u001b[39mhead(\u001b[38;5;241m10\u001b[39m)\n\u001b[0;32m      2\u001b[0m \u001b[38;5;28;01mfor\u001b[39;00m ci, c \u001b[38;5;129;01min\u001b[39;00m df_test\u001b[38;5;241m.\u001b[39mcolumns:\n\u001b[1;32m----> 3\u001b[0m     df_col \u001b[38;5;241m=\u001b[39m \u001b[43mdf_test\u001b[49m\u001b[43m[\u001b[49m\u001b[43mc\u001b[49m\u001b[43m]\u001b[49m\n\u001b[0;32m      4\u001b[0m     \u001b[38;5;28;01mfor\u001b[39;00m r \u001b[38;5;129;01min\u001b[39;00m df_col\u001b[38;5;241m.\u001b[39mitems():\n\u001b[0;32m      5\u001b[0m         \u001b[38;5;28mprint\u001b[39m(r)\n",
      "File \u001b[1;32mc:\\data\\python\\scripts\\funnel_analyse\\venv\\lib\\site-packages\\pandas\\core\\frame.py:3458\u001b[0m, in \u001b[0;36mDataFrame.__getitem__\u001b[1;34m(self, key)\u001b[0m\n\u001b[0;32m   3456\u001b[0m \u001b[38;5;28;01mif\u001b[39;00m \u001b[38;5;28mself\u001b[39m\u001b[38;5;241m.\u001b[39mcolumns\u001b[38;5;241m.\u001b[39mnlevels \u001b[38;5;241m>\u001b[39m \u001b[38;5;241m1\u001b[39m:\n\u001b[0;32m   3457\u001b[0m     \u001b[38;5;28;01mreturn\u001b[39;00m \u001b[38;5;28mself\u001b[39m\u001b[38;5;241m.\u001b[39m_getitem_multilevel(key)\n\u001b[1;32m-> 3458\u001b[0m indexer \u001b[38;5;241m=\u001b[39m \u001b[38;5;28;43mself\u001b[39;49m\u001b[38;5;241;43m.\u001b[39;49m\u001b[43mcolumns\u001b[49m\u001b[38;5;241;43m.\u001b[39;49m\u001b[43mget_loc\u001b[49m\u001b[43m(\u001b[49m\u001b[43mkey\u001b[49m\u001b[43m)\u001b[49m\n\u001b[0;32m   3459\u001b[0m \u001b[38;5;28;01mif\u001b[39;00m is_integer(indexer):\n\u001b[0;32m   3460\u001b[0m     indexer \u001b[38;5;241m=\u001b[39m [indexer]\n",
      "File \u001b[1;32mc:\\data\\python\\scripts\\funnel_analyse\\venv\\lib\\site-packages\\pandas\\core\\indexes\\base.py:3363\u001b[0m, in \u001b[0;36mIndex.get_loc\u001b[1;34m(self, key, method, tolerance)\u001b[0m\n\u001b[0;32m   3361\u001b[0m         \u001b[38;5;28;01mreturn\u001b[39;00m \u001b[38;5;28mself\u001b[39m\u001b[38;5;241m.\u001b[39m_engine\u001b[38;5;241m.\u001b[39mget_loc(casted_key)\n\u001b[0;32m   3362\u001b[0m     \u001b[38;5;28;01mexcept\u001b[39;00m \u001b[38;5;167;01mKeyError\u001b[39;00m \u001b[38;5;28;01mas\u001b[39;00m err:\n\u001b[1;32m-> 3363\u001b[0m         \u001b[38;5;28;01mraise\u001b[39;00m \u001b[38;5;167;01mKeyError\u001b[39;00m(key) \u001b[38;5;28;01mfrom\u001b[39;00m \u001b[38;5;21;01merr\u001b[39;00m\n\u001b[0;32m   3365\u001b[0m \u001b[38;5;28;01mif\u001b[39;00m is_scalar(key) \u001b[38;5;129;01mand\u001b[39;00m isna(key) \u001b[38;5;129;01mand\u001b[39;00m \u001b[38;5;129;01mnot\u001b[39;00m \u001b[38;5;28mself\u001b[39m\u001b[38;5;241m.\u001b[39mhasnans:\n\u001b[0;32m   3366\u001b[0m     \u001b[38;5;28;01mraise\u001b[39;00m \u001b[38;5;167;01mKeyError\u001b[39;00m(key)\n",
      "\u001b[1;31mKeyError\u001b[0m: 'd'"
     ]
    }
   ],
   "source": [
    "df_test = df_step.head(10)\n",
    "for c in df_test.columns:\n",
    "    df_col = df_test[c]\n",
    "    for r in df_col.items():\n",
    "        print(r)\n",
    "\n",
    "df_col.head()\n"
   ]
  },
  {
   "cell_type": "code",
   "execution_count": 17,
   "id": "3aa38db5",
   "metadata": {},
   "outputs": [
    {
     "name": "stdout",
     "output_type": "stream",
     "text": [
      "desktop\n",
      "Empty DataFrame\n",
      "Columns: [group, 1, 2, 3]\n",
      "Index: []\n"
     ]
    }
   ],
   "source": [
    "breakdown =  funnel_count['breakdown'].unique()\n",
    "\n",
    "funnel_pivot = funnel_count.pivot(index=['breakdown', 'group'], columns='step_id', values='id').reset_index()\n",
    "breakdown = ['desktop']\n",
    "for i in breakdown:\n",
    "    print(i)\n",
    "    df = funnel_pivot[funnel_pivot['breakdown']==i].drop(columns='breakdown')\n",
    "    print(df)"
   ]
  },
  {
   "cell_type": "code",
   "execution_count": 18,
   "id": "378c6d00",
   "metadata": {},
   "outputs": [
    {
     "ename": "ValueError",
     "evalue": "can only convert an array of size 1 to a Python scalar",
     "output_type": "error",
     "traceback": [
      "\u001b[1;31m---------------------------------------------------------------------------\u001b[0m",
      "\u001b[1;31mValueError\u001b[0m                                Traceback (most recent call last)",
      "Input \u001b[1;32mIn [18]\u001b[0m, in \u001b[0;36m<module>\u001b[1;34m\u001b[0m\n\u001b[0;32m      3\u001b[0m \u001b[38;5;66;03m# uitval = df[df['group']=='base']\u001b[39;00m\n\u001b[0;32m      4\u001b[0m \u001b[38;5;28;01mfor\u001b[39;00m i \u001b[38;5;129;01min\u001b[39;00m \u001b[38;5;28mrange\u001b[39m(\u001b[38;5;241m1\u001b[39m, max_step):\n\u001b[1;32m----> 5\u001b[0m     x \u001b[38;5;241m=\u001b[39m \u001b[43mdf\u001b[49m\u001b[43m[\u001b[49m\u001b[43mdf\u001b[49m\u001b[43m[\u001b[49m\u001b[38;5;124;43m'\u001b[39;49m\u001b[38;5;124;43mgroup\u001b[39;49m\u001b[38;5;124;43m'\u001b[39;49m\u001b[43m]\u001b[49m\u001b[38;5;241;43m==\u001b[39;49m\u001b[38;5;124;43m'\u001b[39;49m\u001b[38;5;124;43mbase\u001b[39;49m\u001b[38;5;124;43m'\u001b[39;49m\u001b[43m]\u001b[49m\u001b[43m[\u001b[49m\u001b[43mi\u001b[49m\u001b[43m]\u001b[49m\u001b[38;5;241;43m.\u001b[39;49m\u001b[43mitem\u001b[49m\u001b[43m(\u001b[49m\u001b[43m)\u001b[49m \u001b[38;5;66;03m#- df[df['group']=='base'][i+1]\u001b[39;00m\n\u001b[0;32m      6\u001b[0m     uitval\u001b[38;5;241m.\u001b[39mappend (df[df[\u001b[38;5;124m'\u001b[39m\u001b[38;5;124mgroup\u001b[39m\u001b[38;5;124m'\u001b[39m]\u001b[38;5;241m==\u001b[39m\u001b[38;5;124m'\u001b[39m\u001b[38;5;124mbase\u001b[39m\u001b[38;5;124m'\u001b[39m][i]\u001b[38;5;241m.\u001b[39mitem() \u001b[38;5;241m-\u001b[39m df[df[\u001b[38;5;124m'\u001b[39m\u001b[38;5;124mgroup\u001b[39m\u001b[38;5;124m'\u001b[39m]\u001b[38;5;241m==\u001b[39m\u001b[38;5;124m'\u001b[39m\u001b[38;5;124mbase\u001b[39m\u001b[38;5;124m'\u001b[39m][i\u001b[38;5;241m+\u001b[39m\u001b[38;5;241m1\u001b[39m]\u001b[38;5;241m.\u001b[39mitem())\n\u001b[0;32m      7\u001b[0m     \u001b[38;5;28mprint\u001b[39m(x)\n",
      "File \u001b[1;32mc:\\data\\python\\scripts\\funnel_analyse\\venv\\lib\\site-packages\\pandas\\core\\base.py:331\u001b[0m, in \u001b[0;36mIndexOpsMixin.item\u001b[1;34m(self)\u001b[0m\n\u001b[0;32m    329\u001b[0m \u001b[38;5;28;01mif\u001b[39;00m \u001b[38;5;28mlen\u001b[39m(\u001b[38;5;28mself\u001b[39m) \u001b[38;5;241m==\u001b[39m \u001b[38;5;241m1\u001b[39m:\n\u001b[0;32m    330\u001b[0m     \u001b[38;5;28;01mreturn\u001b[39;00m \u001b[38;5;28mnext\u001b[39m(\u001b[38;5;28miter\u001b[39m(\u001b[38;5;28mself\u001b[39m))\n\u001b[1;32m--> 331\u001b[0m \u001b[38;5;28;01mraise\u001b[39;00m \u001b[38;5;167;01mValueError\u001b[39;00m(\u001b[38;5;124m\"\u001b[39m\u001b[38;5;124mcan only convert an array of size 1 to a Python scalar\u001b[39m\u001b[38;5;124m\"\u001b[39m)\n",
      "\u001b[1;31mValueError\u001b[0m: can only convert an array of size 1 to a Python scalar"
     ]
    }
   ],
   "source": [
    "max_step = funnel_count[\"step_id\"].max()\n",
    "uitval = []\n",
    "# uitval = df[df['group']=='base']\n",
    "for i in range(1, max_step):\n",
    "    x = df[df['group']=='base'][i].item() #- df[df['group']=='base'][i+1]\n",
    "    uitval.append (df[df['group']=='base'][i].item() - df[df['group']=='base'][i+1].item())\n",
    "    print(x)\n",
    "print(uitval)\n"
   ]
  },
  {
   "cell_type": "code",
   "execution_count": null,
   "id": "ee13d5a0",
   "metadata": {},
   "outputs": [],
   "source": [
    "for i in range(1, max_step):\n",
    "    total = df[i].sum()\n",
    "    uitval = df[df['group'] == 'base'][i].item() - df[df['group'] == 'base'][i + 1].item()\n",
    "    perc_uitval = f'''{round((uitval/total)*100,1)}%''' \n",
    "    print(total, uitval, perc_uitval)"
   ]
  },
  {
   "cell_type": "code",
   "execution_count": 146,
   "id": "0d7e85b1",
   "metadata": {},
   "outputs": [
    {
     "name": "stdout",
     "output_type": "stream",
     "text": [
      "[3.0, 3.0, 3.0]\n",
      "[1.0, 0.0]\n"
     ]
    },
    {
     "ename": "IndexError",
     "evalue": "list index out of range",
     "output_type": "error",
     "traceback": [
      "\u001b[1;31m---------------------------------------------------------------------------\u001b[0m",
      "\u001b[1;31mIndexError\u001b[0m                                Traceback (most recent call last)",
      "Input \u001b[1;32mIn [146]\u001b[0m, in \u001b[0;36m<module>\u001b[1;34m\u001b[0m\n\u001b[0;32m      3\u001b[0m uitval \u001b[38;5;241m=\u001b[39m [df[df[\u001b[38;5;124m'\u001b[39m\u001b[38;5;124mgroup\u001b[39m\u001b[38;5;124m'\u001b[39m]\u001b[38;5;241m==\u001b[39m\u001b[38;5;124m'\u001b[39m\u001b[38;5;124mbase\u001b[39m\u001b[38;5;124m'\u001b[39m][i]\u001b[38;5;241m.\u001b[39mitem() \u001b[38;5;241m-\u001b[39m df[df[\u001b[38;5;124m'\u001b[39m\u001b[38;5;124mgroup\u001b[39m\u001b[38;5;124m'\u001b[39m]\u001b[38;5;241m==\u001b[39m\u001b[38;5;124m'\u001b[39m\u001b[38;5;124mbase\u001b[39m\u001b[38;5;124m'\u001b[39m][i\u001b[38;5;241m+\u001b[39m\u001b[38;5;241m1\u001b[39m]\u001b[38;5;241m.\u001b[39mitem() \u001b[38;5;28;01mfor\u001b[39;00m i \u001b[38;5;129;01min\u001b[39;00m \u001b[38;5;28mrange\u001b[39m(\u001b[38;5;241m1\u001b[39m,max_step)]\n\u001b[0;32m      4\u001b[0m \u001b[38;5;28mprint\u001b[39m(uitval)\n\u001b[1;32m----> 5\u001b[0m perc \u001b[38;5;241m=\u001b[39m [(uitval[i]\u001b[38;5;241m/\u001b[39m totals[i])\u001b[38;5;241m*\u001b[39m\u001b[38;5;241m100\u001b[39m \u001b[38;5;28;01mfor\u001b[39;00m i \u001b[38;5;129;01min\u001b[39;00m \u001b[38;5;28mrange\u001b[39m(max_step)]\n",
      "Input \u001b[1;32mIn [146]\u001b[0m, in \u001b[0;36m<listcomp>\u001b[1;34m(.0)\u001b[0m\n\u001b[0;32m      3\u001b[0m uitval \u001b[38;5;241m=\u001b[39m [df[df[\u001b[38;5;124m'\u001b[39m\u001b[38;5;124mgroup\u001b[39m\u001b[38;5;124m'\u001b[39m]\u001b[38;5;241m==\u001b[39m\u001b[38;5;124m'\u001b[39m\u001b[38;5;124mbase\u001b[39m\u001b[38;5;124m'\u001b[39m][i]\u001b[38;5;241m.\u001b[39mitem() \u001b[38;5;241m-\u001b[39m df[df[\u001b[38;5;124m'\u001b[39m\u001b[38;5;124mgroup\u001b[39m\u001b[38;5;124m'\u001b[39m]\u001b[38;5;241m==\u001b[39m\u001b[38;5;124m'\u001b[39m\u001b[38;5;124mbase\u001b[39m\u001b[38;5;124m'\u001b[39m][i\u001b[38;5;241m+\u001b[39m\u001b[38;5;241m1\u001b[39m]\u001b[38;5;241m.\u001b[39mitem() \u001b[38;5;28;01mfor\u001b[39;00m i \u001b[38;5;129;01min\u001b[39;00m \u001b[38;5;28mrange\u001b[39m(\u001b[38;5;241m1\u001b[39m,max_step)]\n\u001b[0;32m      4\u001b[0m \u001b[38;5;28mprint\u001b[39m(uitval)\n\u001b[1;32m----> 5\u001b[0m perc \u001b[38;5;241m=\u001b[39m [(\u001b[43muitval\u001b[49m\u001b[43m[\u001b[49m\u001b[43mi\u001b[49m\u001b[43m]\u001b[49m\u001b[38;5;241m/\u001b[39m totals[i])\u001b[38;5;241m*\u001b[39m\u001b[38;5;241m100\u001b[39m \u001b[38;5;28;01mfor\u001b[39;00m i \u001b[38;5;129;01min\u001b[39;00m \u001b[38;5;28mrange\u001b[39m(max_step)]\n",
      "\u001b[1;31mIndexError\u001b[0m: list index out of range"
     ]
    }
   ],
   "source": [
    "totals = [df[i].sum() for i in range(1,max_step + 1)]\n",
    "print(totals)\n",
    "uitval = [df[df['group']=='base'][i].item() - df[df['group']=='base'][i+1].item() for i in range(1,max_step)]\n",
    "print(uitval)\n",
    "perc = [(uitval[i]/ totals[i])*100 for i in range(max_step)]"
   ]
  },
  {
   "cell_type": "code",
   "execution_count": 134,
   "id": "99d01bda",
   "metadata": {},
   "outputs": [
    {
     "name": "stdout",
     "output_type": "stream",
     "text": [
      "total - 1 - 3.0\n",
      "total - 2 - 3.0\n",
      "total - 3 - 3.0\n",
      "uitval - 1 - 0    1.0\n",
      "1    NaN\n",
      "dtype: float64\n",
      "uitval - 2 - 0    0.0\n",
      "1    0.0\n",
      "dtype: float64\n"
     ]
    },
    {
     "data": {
      "text/plain": [
       "[None, None]"
      ]
     },
     "execution_count": 134,
     "metadata": {},
     "output_type": "execute_result"
    }
   ],
   "source": [
    "[write_footer (i, 'total',df[i].sum()) for i in range(1,max_step + 1)]\n",
    "[write_footer (i, 'uitval',df[i] - df[i+1]) for i in range(1,max_step)]\n"
   ]
  },
  {
   "cell_type": "code",
   "execution_count": 117,
   "id": "e785175d",
   "metadata": {},
   "outputs": [],
   "source": [
    "def write_footer (step, title, value):\n",
    "#     for i in values:\n",
    "        print(f'''{title} - {step} - {value}''')"
   ]
  }
 ],
 "metadata": {
  "kernelspec": {
   "display_name": "Python 3 (ipykernel)",
   "language": "python",
   "name": "python3"
  },
  "language_info": {
   "codemirror_mode": {
    "name": "ipython",
    "version": 3
   },
   "file_extension": ".py",
   "mimetype": "text/x-python",
   "name": "python",
   "nbconvert_exporter": "python",
   "pygments_lexer": "ipython3",
   "version": "3.9.10"
  }
 },
 "nbformat": 4,
 "nbformat_minor": 5
}
